{
 "cells": [
  {
   "cell_type": "markdown",
   "metadata": {},
   "source": [
    "## Задание 1"
   ]
  },
  {
   "cell_type": "markdown",
   "metadata": {},
   "source": [
    "Дан список вида:"
   ]
  },
  {
   "cell_type": "code",
   "execution_count": 1,
   "metadata": {},
   "outputs": [],
   "source": [
    "data = [\n",
    "    [13, 25, 23, 34],\n",
    "    [45, 32, 44, 47],\n",
    "    [12, 33, 23, 95],\n",
    "    [13, 53, 34, 35]\n",
    "]"
   ]
  },
  {
   "cell_type": "markdown",
   "metadata": {},
   "source": [
    "Напишите функцию, которая возвращает сумму элементов на диагонали. Т. е. 13+32+23+35."
   ]
  },
  {
   "cell_type": "code",
   "execution_count": 11,
   "metadata": {},
   "outputs": [],
   "source": [
    "def diagonal_sum ():\n",
    "    numbs = []\n",
    "    i = 0\n",
    "    for new_list in data:\n",
    "        numbs.append(new_list[i])\n",
    "        i += 1\n",
    "    result = sum(numbs)\n",
    "    print('Сумма элементов по диагонали — ', result)"
   ]
  },
  {
   "cell_type": "code",
   "execution_count": 12,
   "metadata": {},
   "outputs": [
    {
     "name": "stdout",
     "output_type": "stream",
     "text": [
      "Сумма элементов по диагонали —  103\n"
     ]
    }
   ],
   "source": [
    "diagonal_sum()"
   ]
  },
  {
   "cell_type": "markdown",
   "metadata": {},
   "source": [
    "## Задание 2"
   ]
  },
  {
   "cell_type": "markdown",
   "metadata": {},
   "source": [
    "Дан список чисел, часть из которых имеют строковый тип или содержат буквы. Напишите функцию, которая возвращает сумму квадратов элементов, которые могут быть числами."
   ]
  },
  {
   "cell_type": "code",
   "execution_count": 38,
   "metadata": {},
   "outputs": [],
   "source": [
    "data = [1, '5', 'abc', 20, '2']"
   ]
  },
  {
   "cell_type": "code",
   "execution_count": 53,
   "metadata": {},
   "outputs": [],
   "source": [
    "def square():\n",
    "    new_list = []\n",
    "    summ = 0\n",
    "    for new_object in data:\n",
    "        if isinstance(new_object, int):\n",
    "            new_list.append(new_object)\n",
    "        else:\n",
    "            if new_object.isnumeric():\n",
    "                new_list.append(int(new_object))\n",
    "    for new_object in new_list:\n",
    "        summ += new_object**2\n",
    "    print(summ)"
   ]
  },
  {
   "cell_type": "code",
   "execution_count": 55,
   "metadata": {},
   "outputs": [
    {
     "name": "stdout",
     "output_type": "stream",
     "text": [
      "430\n"
     ]
    }
   ],
   "source": [
    "square()"
   ]
  },
  {
   "cell_type": "markdown",
   "metadata": {},
   "source": [
    "## Задание 3"
   ]
  },
  {
   "cell_type": "markdown",
   "metadata": {},
   "source": [
    "Напишите функцию, возвращающую сумму первых n чисел Фибоначчи."
   ]
  },
  {
   "cell_type": "code",
   "execution_count": 37,
   "metadata": {},
   "outputs": [
    {
     "name": "stdout",
     "output_type": "stream",
     "text": [
      "Input 13\n",
      "[0, 1, 1, 2, 3, 5, 8, 13, 21, 34, 55, 89, 144]\n",
      "376\n"
     ]
    }
   ],
   "source": [
    "def list_fib():\n",
    "    \"\"\" Генерирует первые n чисел Фибона́ччи \"\"\"\n",
    "    n = int(input('Input '))\n",
    "    fib = [0, 1]\n",
    "    f0 = 0\n",
    "    f1 = 1\n",
    "    for i in range(2, n):\n",
    "        fib.append(fib[i-1] + fib[i-2])\n",
    "    return fib\n",
    "\n",
    "def summ_fib():\n",
    "    fib = list_fib()\n",
    "    summ = 0\n",
    "    for num in fib:\n",
    "        summ += num\n",
    "    print(fib)\n",
    "    print(summ)\n",
    "    \n",
    "summ_fib()"
   ]
  },
  {
   "cell_type": "markdown",
   "metadata": {},
   "source": [
    "## Задание 4"
   ]
  },
  {
   "cell_type": "markdown",
   "metadata": {},
   "source": [
    "Дан набор данных об обучении студентов на курсе программирования, который содержит: \n",
    "1) имя\n",
    "2) фамилию \n",
    "3) пол \n",
    "4) наличие у студента опыта в программировании \n",
    "5) набор оценок за домашние работы \n",
    "6) оценку за итоговую работу.\n",
    "\n",
    "Напишите программу, которая будет принимать команду от пользователя и возвращать соотвествующий результат.\n",
    "Список команд: \n",
    "1 - вывести на экран среднюю оценку за все ДЗ по группе и вывести на экран среднюю оценку за экзамен по группе;\n",
    "2 - вывести среднюю оценку за ДЗ и за экзамен по группе в разрезе пола студентов;\n",
    "3 - вывести среднюю оценку за ДЗ и за экзамен в разрезе наличия опыта в программировании у студентов.\n",
    "\n",
    "Прогрмма должна быть полностью декомпозирована на функции (кроме объявления функций и вызова итоговой функции в реализации ничего быть не должно)."
   ]
  },
  {
   "cell_type": "code",
   "execution_count": 45,
   "metadata": {},
   "outputs": [],
   "source": [
    "students_list = [\n",
    "    {'name': 'Василий', 'surname': 'Теркин', 'sex': 'м', 'program_exp': True, 'grade': [8, 8, 9, 10, 9], 'exam': 9},\n",
    "    {'name': 'Мария', 'surname': 'Павлова', 'sex': 'ж', 'program_exp': True, 'grade': [7, 8, 9, 7, 9], 'exam': 8},\n",
    "    {'name': 'Ирина', 'surname': 'Андреева', 'sex': 'ж', 'program_exp': True, 'grade': [10, 9, 8, 10, 10], 'exam': 10},\n",
    "    {'name': 'Татьяна', 'surname': 'Сидорова', 'sex': 'ж', 'program_exp': True, 'grade': [7, 8, 8, 9, 8],\n",
    "     'exam': 8},\n",
    "    {'name': 'Иван', 'surname': 'Васильев', 'sex': 'м', 'program_exp': True, 'grade': [9, 8, 9, 6, 9], 'exam': 10},\n",
    "    {'name': 'Роман', 'surname': 'Золотарев', 'sex': 'м', 'program_exp': False, 'grade': [8, 9, 9, 6, 9], 'exam': 10}\n",
    "]"
   ]
  },
  {
   "cell_type": "code",
   "execution_count": 46,
   "metadata": {},
   "outputs": [],
   "source": [
    "def m_or_f():\n",
    "    \"\"\"\n",
    "    Формирует списки студент_ок по гендеру\n",
    "    \"\"\"\n",
    "    global students_list_m\n",
    "    global students_list_f\n",
    "    students_list_m = []\n",
    "    students_list_f = []\n",
    "    for student in students_list:\n",
    "        if student['sex'] == 'ж':\n",
    "            students_list_f.append(student)\n",
    "        else:\n",
    "            students_list_m.append(student)"
   ]
  },
  {
   "cell_type": "code",
   "execution_count": 47,
   "metadata": {},
   "outputs": [],
   "source": [
    "def avg_grd_f():\n",
    "    \"\"\"\n",
    "    Возвращает среднюю оценку за ДЗ у студенток\n",
    "    \"\"\"\n",
    "    print('Средняя оценка за ДЗ у студенток:')\n",
    "    m_or_f()\n",
    "    new_sum_grd = 0\n",
    "    for student in students_list_f:\n",
    "        copy_student = dict(student)\n",
    "        sum_grd = 0\n",
    "        for grd in copy_student['grade']:\n",
    "            sum_grd += grd\n",
    "            count_grd = len(copy_student['grade'])\n",
    "            avg_grd = sum_grd/count_grd\n",
    "        new_sum_grd += avg_grd\n",
    "    new_avg_grd = round(new_sum_grd/len(students_list_f), 2)\n",
    "    print(new_avg_grd)"
   ]
  },
  {
   "cell_type": "code",
   "execution_count": 48,
   "metadata": {},
   "outputs": [],
   "source": [
    "def avg_grd_m():\n",
    "    \"\"\"\n",
    "    Возвращает среднюю оценку за ДЗ у студентов\n",
    "    \"\"\"\n",
    "    print('Средняя оценка за ДЗ у студентов:')\n",
    "    m_or_f()\n",
    "    new_sum_grd = 0\n",
    "    for student in students_list_m:\n",
    "        copy_student = dict(student)\n",
    "        sum_grd = 0\n",
    "        for grd in copy_student['grade']:\n",
    "            sum_grd += grd\n",
    "            count_grd = len(copy_student['grade'])\n",
    "            avg_grd = sum_grd/count_grd\n",
    "        new_sum_grd += avg_grd\n",
    "    new_avg_grd = round(new_sum_grd/len(students_list_m), 2)\n",
    "    print(new_avg_grd)"
   ]
  },
  {
   "cell_type": "code",
   "execution_count": 49,
   "metadata": {},
   "outputs": [],
   "source": [
    "def avg_ex_f():\n",
    "    \"\"\"\n",
    "    Возвращает среднюю оценку за экзамен у студенток\n",
    "    \"\"\"\n",
    "    print('Средняя оценка за экзамен у студенток:')\n",
    "    m_or_f()\n",
    "    sum_ex = 0\n",
    "    for student in students_list_f:\n",
    "        copy_student = dict(student)\n",
    "        sum_ex += copy_student['exam']\n",
    "    avg_ex = round(sum_ex/len(students_list_f), 2)\n",
    "    print(avg_ex)"
   ]
  },
  {
   "cell_type": "code",
   "execution_count": 50,
   "metadata": {},
   "outputs": [],
   "source": [
    "def avg_ex_m():\n",
    "    \"\"\"\n",
    "    Возвращает среднюю оценку за экзамен у студентов\n",
    "    \"\"\"\n",
    "    print('Средняя оценка за экзамен у студентов:')\n",
    "    m_or_f()\n",
    "    sum_ex = 0\n",
    "    for student in students_list_m:\n",
    "        copy_student = dict(student)\n",
    "        sum_ex += copy_student['exam']\n",
    "    avg_ex = round(sum_ex/len(students_list_m), 2)\n",
    "    print(avg_ex)"
   ]
  },
  {
   "cell_type": "code",
   "execution_count": 51,
   "metadata": {},
   "outputs": [],
   "source": [
    "def exp():\n",
    "    \"\"\"\n",
    "    Формирует списки студенто_к по наличию опыта\n",
    "    \"\"\"\n",
    "    global students_list_exp_1\n",
    "    global students_list_exp_0\n",
    "    students_list_exp_1 = []\n",
    "    students_list_exp_0 = []\n",
    "    for student in students_list:\n",
    "        if student['program_exp']:\n",
    "            students_list_exp_1.append(student)\n",
    "        else:\n",
    "            students_list_exp_0.append(student)"
   ]
  },
  {
   "cell_type": "code",
   "execution_count": 52,
   "metadata": {},
   "outputs": [],
   "source": [
    "def avg_grd_exp_0():\n",
    "    \"\"\"\n",
    "    Возвращает среднюю оценку за ДЗ у студенто_к без опыта\n",
    "    \"\"\"\n",
    "    print('Средняя оценка за ДЗ у студенто_к без опыта:')\n",
    "    exp()\n",
    "    new_sum_grd = 0\n",
    "    for student in students_list_exp_0:\n",
    "        copy_student = dict(student)\n",
    "        sum_grd = 0\n",
    "        for grd in copy_student['grade']:\n",
    "            sum_grd += grd\n",
    "            count_grd = len(copy_student['grade'])\n",
    "            avg_grd = sum_grd/count_grd\n",
    "        new_sum_grd += avg_grd\n",
    "    new_avg_grd = round(new_sum_grd/len(students_list_exp_0), 2)\n",
    "    print(new_avg_grd)"
   ]
  },
  {
   "cell_type": "code",
   "execution_count": 53,
   "metadata": {},
   "outputs": [],
   "source": [
    "def avg_grd_exp_1():\n",
    "    \"\"\"\n",
    "    Возвращает среднюю оценку за ДЗ у студенто_к с опытом\n",
    "    \"\"\"\n",
    "    print('Средняя оценка за ДЗ у студенто_к с опытом:')\n",
    "    exp()\n",
    "    new_sum_grd = 0\n",
    "    for student in students_list_exp_1:\n",
    "        copy_student = dict(student)\n",
    "        sum_grd = 0\n",
    "        for grd in copy_student['grade']:\n",
    "            sum_grd += grd\n",
    "            count_grd = len(copy_student['grade'])\n",
    "            avg_grd = sum_grd/count_grd\n",
    "        new_sum_grd += avg_grd\n",
    "    new_avg_grd = round(new_sum_grd/len(students_list_exp_1), 2)\n",
    "    print(new_avg_grd)"
   ]
  },
  {
   "cell_type": "code",
   "execution_count": 54,
   "metadata": {},
   "outputs": [],
   "source": [
    "def avg_ex_exp_0():\n",
    "    \"\"\"\n",
    "    Возвращает среднюю оценку за экзамен у студенто_к без опыта\n",
    "    \"\"\"\n",
    "    print('Средняя оценка за экзамен у студенто_к без опыта:')\n",
    "    exp()\n",
    "    sum_ex = 0\n",
    "    for student in students_list_exp_0:\n",
    "        copy_student = dict(student)\n",
    "        sum_ex += copy_student['exam']\n",
    "    avg_ex = round(sum_ex/len(students_list_exp_0), 2)\n",
    "    print(avg_ex)"
   ]
  },
  {
   "cell_type": "code",
   "execution_count": 55,
   "metadata": {},
   "outputs": [],
   "source": [
    "def avg_ex_exp_1():\n",
    "    \"\"\"\n",
    "    Возвращает среднюю оценку за экзамен у студенто_к с опытом\n",
    "    \"\"\"\n",
    "    print('Средняя оценка за экзамен у студенто_к с опытом:')\n",
    "    exp()\n",
    "    sum_ex = 0\n",
    "    for student in students_list_exp_1:\n",
    "        copy_student = dict(student)\n",
    "        sum_ex += copy_student['exam']\n",
    "    avg_ex = round(sum_ex/len(students_list_exp_1), 2)\n",
    "    print(avg_ex)"
   ]
  },
  {
   "cell_type": "code",
   "execution_count": 56,
   "metadata": {},
   "outputs": [],
   "source": [
    "def avg_grd():\n",
    "    \"\"\"\n",
    "    Возвращает среднюю оценку за ДЗ по всей группе\n",
    "    \"\"\"\n",
    "    print('Средняя оценка за ДЗ по всей группе:')\n",
    "    new_sum_grd = 0\n",
    "    for student in students_list:\n",
    "        copy_student = dict(student)\n",
    "        sum_grd = 0\n",
    "        for grd in copy_student['grade']:\n",
    "            sum_grd += grd\n",
    "            count_grd = len(copy_student['grade'])\n",
    "            avg_grd = sum_grd/count_grd\n",
    "        new_sum_grd += avg_grd\n",
    "    new_avg_grd = round(new_sum_grd/len(students_list), 2)\n",
    "    print(new_avg_grd)"
   ]
  },
  {
   "cell_type": "code",
   "execution_count": 57,
   "metadata": {},
   "outputs": [],
   "source": [
    "def avg_ex():\n",
    "    \"\"\"\n",
    "    Возвращает среднюю оценку за экзамен по всей группе\n",
    "    \"\"\"\n",
    "    print('Средняя оценка за экзамен по всей группе:')\n",
    "    sum_ex = 0\n",
    "    for student in students_list:\n",
    "        copy_student = dict(student)\n",
    "        sum_ex += copy_student['exam']\n",
    "    avg_ex = round(sum_ex/len(students_list), 2)\n",
    "    print(avg_ex)"
   ]
  },
  {
   "cell_type": "code",
   "execution_count": 58,
   "metadata": {},
   "outputs": [],
   "source": [
    "def f1():\n",
    "    avg_grd()    \n",
    "    avg_ex()"
   ]
  },
  {
   "cell_type": "code",
   "execution_count": 59,
   "metadata": {},
   "outputs": [],
   "source": [
    "def f2():\n",
    "    avg_grd_f()\n",
    "    avg_grd_m()\n",
    "    avg_ex_f()\n",
    "    avg_ex_m()"
   ]
  },
  {
   "cell_type": "code",
   "execution_count": 60,
   "metadata": {},
   "outputs": [],
   "source": [
    "def f3():\n",
    "    avg_grd_exp_1()\n",
    "    avg_grd_exp_0()\n",
    "    avg_ex_exp_1()\n",
    "    avg_ex_exp_0()"
   ]
  },
  {
   "cell_type": "code",
   "execution_count": 61,
   "metadata": {},
   "outputs": [],
   "source": [
    "def final_f():\n",
    "    print('Список команд:')\n",
    "    print('1 - вывести на экран среднюю оценку за все ДЗ по группе и вывести на экран среднюю оценку за экзамен по группе')\n",
    "    print('2 - вывести среднюю оценку за ДЗ и за экзамен по группе в разрезе гендера студенто_к')\n",
    "    print('3 - вывести среднюю оценку за ДЗ и за экзамен в разрезе наличия опыта в программировании у студенто_к')\n",
    "    n = int(input('Введите номер команды: '))\n",
    "    if n == 1:\n",
    "        f1()\n",
    "    if n == 2:\n",
    "        f2()\n",
    "    if n == 3:\n",
    "        f3()"
   ]
  },
  {
   "cell_type": "code",
   "execution_count": 63,
   "metadata": {},
   "outputs": [
    {
     "name": "stdout",
     "output_type": "stream",
     "text": [
      "Список команд:\n",
      "1 - вывести на экран среднюю оценку за все ДЗ по группе и вывести на экран среднюю оценку за экзамен по группе\n",
      "2 - вывести среднюю оценку за ДЗ и за экзамен по группе в разрезе гендера студенто_к\n",
      "3 - вывести среднюю оценку за ДЗ и за экзамен в разрезе наличия опыта в программировании у студенто_к\n",
      "Введите номер команды: 3\n",
      "Средняя оценка за ДЗ у студенто_к с опытом:\n",
      "8.48\n",
      "Средняя оценка за ДЗ у студенто_к без опыта:\n",
      "8.2\n",
      "Средняя оценка за экзамен у студенто_к с опытом:\n",
      "9.0\n",
      "Средняя оценка за экзамен у студенто_к без опыта:\n",
      "10.0\n"
     ]
    }
   ],
   "source": [
    "final_f()"
   ]
  }
 ],
 "metadata": {
  "kernelspec": {
   "display_name": "Python 3",
   "language": "python",
   "name": "python3"
  },
  "language_info": {
   "codemirror_mode": {
    "name": "ipython",
    "version": 3
   },
   "file_extension": ".py",
   "mimetype": "text/x-python",
   "name": "python",
   "nbconvert_exporter": "python",
   "pygments_lexer": "ipython3",
   "version": "3.7.3"
  }
 },
 "nbformat": 4,
 "nbformat_minor": 2
}
